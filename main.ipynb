{
 "cells": [
  {
   "cell_type": "markdown",
   "metadata": {},
   "source": [
    "### Imports"
   ]
  },
  {
   "cell_type": "code",
   "execution_count": 25,
   "metadata": {},
   "outputs": [],
   "source": [
    "import numpy as np\n",
    "import pandas as pd\n",
    "import os\n",
    "import cv2\n",
    "from sklearn.model_selection import train_test_split, cross_val_score, StratifiedKFold\n",
    "from sklearn.metrics import accuracy_score, precision_score, recall_score, roc_auc_score, confusion_matrix\n",
    "from sklearn.tree import DecisionTreeClassifier\n",
    "from sklearn.naive_bayes import GaussianNB\n",
    "from sklearn.svm import SVC\n",
    "from sklearn.ensemble import RandomForestClassifier\n",
    "from mlxtend.classifier import OneRClassifier\n",
    "import time"
   ]
  },
  {
   "cell_type": "markdown",
   "metadata": {},
   "source": [
    "### Loading and preprocessing images"
   ]
  },
  {
   "cell_type": "code",
   "execution_count": null,
   "metadata": {},
   "outputs": [
    {
     "name": "stdout",
     "output_type": "stream",
     "text": [
      "Loaded 4950 training images from 11 classes.\n"
     ]
    }
   ],
   "source": [
    "dataset_path = \"Cat_Breed\"\n",
    "unseen_dataset_path = \"Unseen_Cat_Breed\"\n",
    "\n",
    "breeds = {\n",
    "    'Abyssinian': 0, 'Bombay': 1, 'Egyptian Mau': 2, 'Exotic Shorthair': 3,\n",
    "    'Himalayan': 4, 'Maine Coon': 5, 'Regdoll': 6, 'Russian Blue': 7,\n",
    "    'Scottish Fold': 8, 'Siamese': 9, 'Sphynx': 10\n",
    "}\n",
    "\n",
    "img_size = (64, 64)\n",
    "\n",
    "def load_and_preprocess_images(directory, label, img_size):\n",
    "    images, labels = [], []\n",
    "    if not os.path.exists(directory):\n",
    "        print(f\"Warning: {directory} does not exist. Skipping...\")\n",
    "        return images, labels\n",
    "    \n",
    "    for filename in os.listdir(directory):\n",
    "        img_path = os.path.join(directory, filename)\n",
    "        img = cv2.imread(img_path)\n",
    "        if img is not None:\n",
    "            img = cv2.resize(img, img_size)      \n",
    "            img = cv2.cvtColor(img, cv2.COLOR_BGR2GRAY)\n",
    "            img = img / 255.0\n",
    "            images.append(img.reshape(64, 64, 1))\n",
    "            labels.append(label)\n",
    "    return images, labels\n",
    "\n",
    "X, y = [], []\n",
    "for breed, label in breeds.items():\n",
    "    images, labels = load_and_preprocess_images(os.path.join(dataset_path, breed), label, img_size)\n",
    "    X.extend(images)\n",
    "    y.extend(labels)\n",
    "\n",
    "X, y = np.array(X), np.array(y)\n",
    "\n",
    "print(f\"Loaded {len(X)} training images from {len(breeds)} classes.\")"
   ]
  },
  {
   "cell_type": "markdown",
   "metadata": {},
   "source": [
    "### Splitting Train and Test Images"
   ]
  },
  {
   "cell_type": "code",
   "execution_count": 27,
   "metadata": {},
   "outputs": [],
   "source": [
    "X_train, X_test, y_train, y_test = train_test_split(X, y, test_size=0.2, random_state=42)"
   ]
  },
  {
   "cell_type": "markdown",
   "metadata": {},
   "source": [
    "### Training of Models"
   ]
  },
  {
   "cell_type": "code",
   "execution_count": 28,
   "metadata": {},
   "outputs": [],
   "source": [
    "decision_tree_classifier = DecisionTreeClassifier()\n",
    "naive_bayes_classifier = GaussianNB()\n",
    "svm_classifier = SVC(probability=True)\n",
    "random_forest_classifier = RandomForestClassifier(n_estimators=100)"
   ]
  },
  {
   "cell_type": "code",
   "execution_count": 29,
   "metadata": {},
   "outputs": [],
   "source": [
    "def train_model(model, name):\n",
    "    start_time = time.time() \n",
    "    model.fit(X_train, y_train)\n",
    "    end_time = time.time() \n",
    "    training_time = end_time - start_time \n",
    "    print(f\"{name} trained in {training_time:.4f} seconds.\")\n"
   ]
  },
  {
   "cell_type": "code",
   "execution_count": 30,
   "metadata": {},
   "outputs": [
    {
     "name": "stdout",
     "output_type": "stream",
     "text": [
      "Decision Tree trained in 14.5164 seconds.\n"
     ]
    }
   ],
   "source": [
    "train_model(decision_tree_classifier, \"Decision Tree\")"
   ]
  },
  {
   "cell_type": "code",
   "execution_count": 31,
   "metadata": {},
   "outputs": [
    {
     "name": "stdout",
     "output_type": "stream",
     "text": [
      "Naive Bayes trained in 0.1355 seconds.\n"
     ]
    }
   ],
   "source": [
    "train_model(naive_bayes_classifier, \"Naive Bayes\")"
   ]
  },
  {
   "cell_type": "code",
   "execution_count": 32,
   "metadata": {},
   "outputs": [
    {
     "name": "stdout",
     "output_type": "stream",
     "text": [
      "SVM Classifier trained in 91.6114 seconds.\n"
     ]
    }
   ],
   "source": [
    "train_model(svm_classifier, \"SVM Classifier\")"
   ]
  },
  {
   "cell_type": "code",
   "execution_count": 33,
   "metadata": {},
   "outputs": [
    {
     "name": "stdout",
     "output_type": "stream",
     "text": [
      "Random Forest Classifier trained in 15.6596 seconds.\n"
     ]
    }
   ],
   "source": [
    "train_model(random_forest_classifier, \"Random Forest Classifier\")"
   ]
  },
  {
   "cell_type": "markdown",
   "metadata": {},
   "source": [
    "### Saving the Model"
   ]
  },
  {
   "cell_type": "code",
   "execution_count": 37,
   "metadata": {},
   "outputs": [
    {
     "data": {
      "text/plain": [
       "['saved_models\\\\random_forest.pkl']"
      ]
     },
     "execution_count": 37,
     "metadata": {},
     "output_type": "execute_result"
    }
   ],
   "source": [
    "import joblib\n",
    "\n",
    "model_folder = 'saved_models'\n",
    "os.makedirs(model_folder, exist_ok=True) \n",
    "\n",
    "joblib.dump(decision_tree_classifier, os.path.join(model_folder, \"decision_tree.pkl\"))\n",
    "joblib.dump(naive_bayes_classifier, os.path.join(model_folder, \"naive_bayes.pkl\"))\n",
    "joblib.dump(svm_classifier, os.path.join(model_folder, \"svm_model.pkl\"))\n",
    "joblib.dump(random_forest_classifier, os.path.join(model_folder, \"random_forest.pkl\"))"
   ]
  },
  {
   "cell_type": "markdown",
   "metadata": {},
   "source": [
    "### Model Metrics"
   ]
  },
  {
   "cell_type": "code",
   "execution_count": 35,
   "metadata": {},
   "outputs": [
    {
     "name": "stdout",
     "output_type": "stream",
     "text": [
      "Decision Tree Metrics\n",
      "Confirmation Metrix: [[25  4  8 11  6  7  1 11  6 10  8]\n",
      " [ 7 60  4  2  3  6  0  6  0  6  4]\n",
      " [18  2 11  7 12  5  2  7  5 10 11]\n",
      " [ 9  2 11 21  7  6 14  3 12 10  6]\n",
      " [ 5  0  8  5 22  5  6  6  3 12  5]\n",
      " [ 9  2 11  6  5 20  8  9 12  7  6]\n",
      " [ 2  1  4  9  7 10 18  4  9  7  7]\n",
      " [12  2 11  4 10  7  3 19  5  9 10]\n",
      " [ 3  1 12 10  3 10  8  8 24  9  6]\n",
      " [ 0 10 12  3 11 11  2  3  6 15 10]\n",
      " [ 5  0  3 11 10  6  4 11  7  5 23]]\n",
      "Accuracy: 0.2606060606060606\n",
      "Precision: 0.27008318100122797\n",
      "Recall: 0.2606060606060606\n",
      "ROC-AUC: 0.5926077627467404\n",
      "Naive Bayes Metrics\n",
      "Confirmation Metrix: [[38  4  1  2  0  2  3 31  6  4  6]\n",
      " [ 1 84  0  3  0  0  0  4  0  6  0]\n",
      " [28  2  2  2  1  8 10 18  1  5 13]\n",
      " [21  4  3  2  2 14 24 12 10  2  7]\n",
      " [16  4  3  3  6  9 11  7  3  4 11]\n",
      " [17  8  0  3  0 19 18 17  2  3  8]\n",
      " [ 5  0  1  1  1 16 46  1  1  0  6]\n",
      " [25  7  1  2  1  5  8 21  3  3 16]\n",
      " [22  3  0  0  2 10 33  8  4  3  9]\n",
      " [24  2  3  0  3  5  3 14  0 20  9]\n",
      " [18  0  2  2  1 10 18 10  2  3 19]]\n",
      "Accuracy: 0.2636363636363636\n",
      "Precision: 0.24907324836624414\n",
      "Recall: 0.2636363636363636\n",
      "ROC-AUC: 0.6760631547495032\n",
      "SVM Classifier Metrics\n",
      "Confirmation Metrix: [[33  4  9  4  4  0  1 26  4  5  7]\n",
      " [ 1 92  0  0  0  0  0  2  0  3  0]\n",
      " [17  1 14  1  3  4 10 18  5  7 10]\n",
      " [ 5  5  8 22  6  6 19 10  8  4  8]\n",
      " [ 4  2  5  4 26  4  9  8  3  8  4]\n",
      " [ 6  8  4  1  4 24 16 12  6  7  7]\n",
      " [ 1  0  4  6  4  6 45  3  3  2  4]\n",
      " [12  5 10  1  6  3  2 28  1  7 17]\n",
      " [ 7  2  5  6  3  5 24  7 25  4  6]\n",
      " [ 7  2  3  0 11  2  6 17  2 27  6]\n",
      " [ 7  0  4  1  5  1 14 13  9  7 24]]\n",
      "Accuracy: 0.36363636363636365\n",
      "Precision: 0.37405651570132004\n",
      "Recall: 0.36363636363636365\n",
      "ROC-AUC: 0.7896566744316157\n",
      "Random Forest Classifier Metrics\n",
      "Confirmation Metrix: [[43  4 11  3  4  1  2 21  1  2  5]\n",
      " [ 1 90  0  0  1  0  0  2  0  4  0]\n",
      " [19  1 15  2  2  6 13 12  3  5 12]\n",
      " [ 8  4 11 28  4  6 16  8  5  6  5]\n",
      " [ 6  3  2  4 25  2 14  4  1 11  5]\n",
      " [ 7 10 11 11  1 19 16  4  2  7  7]\n",
      " [ 1  0  6  4  4  4 49  0  4  0  6]\n",
      " [11  3 11  0  3  1  6 32  7  6 12]\n",
      " [ 4  1 10  7  2  3 25 12 26  1  3]\n",
      " [ 9  6  5  0  8  3  7 10  0 32  3]\n",
      " [ 6  1 10  2  4  4 13  9  5  3 28]]\n",
      "Accuracy: 0.39090909090909093\n",
      "Precision: 0.40002900720580287\n",
      "Recall: 0.39090909090909093\n",
      "ROC-AUC: 0.8023361185610823\n"
     ]
    }
   ],
   "source": [
    "def check_model_metrics(model, name):\n",
    "    y_pred = model.predict(X_test)\n",
    "    y_prob = model.predict_proba(X_test) if hasattr(model, \"predict_proba\") else None\n",
    "\n",
    "    accuracy = accuracy_score(y_test, y_pred)\n",
    "    precision = precision_score(y_test, y_pred, average=\"weighted\", zero_division=1)\n",
    "    recall = recall_score(y_test, y_pred, average=\"weighted\", zero_division=1)\n",
    "    roc_auc = roc_auc_score(y_test, y_prob, multi_class=\"ovr\") if y_prob is not None else None\n",
    "    cm = confusion_matrix(y_test, y_pred)\n",
    "\n",
    "    cross_val = cross_val_score(model, X_train, y_train, cv=10).mean()\n",
    "\n",
    "    print(f\"{name} Metrics\")\n",
    "    print(f\"Confirmation Metrix: {cm}\")\n",
    "    print(f\"Accuracy: {accuracy}\")\n",
    "    print(f\"Precision: {precision}\")\n",
    "    print(f\"Recall: {recall}\")\n",
    "    print(f\"ROC-AUC: {roc_auc}\")\n",
    "\n",
    "check_model_metrics(decision_tree_classifier, \"Decision Tree\")\n",
    "check_model_metrics(naive_bayes_classifier, \"Naive Bayes\")\n",
    "check_model_metrics(svm_classifier, \"SVM Classifier\")\n",
    "check_model_metrics(random_forest_classifier, \"Random Forest Classifier\")\n",
    "    \n"
   ]
  }
 ],
 "metadata": {
  "kernelspec": {
   "display_name": "Python 3",
   "language": "python",
   "name": "python3"
  },
  "language_info": {
   "codemirror_mode": {
    "name": "ipython",
    "version": 3
   },
   "file_extension": ".py",
   "mimetype": "text/x-python",
   "name": "python",
   "nbconvert_exporter": "python",
   "pygments_lexer": "ipython3",
   "version": "3.13.1"
  }
 },
 "nbformat": 4,
 "nbformat_minor": 2
}
