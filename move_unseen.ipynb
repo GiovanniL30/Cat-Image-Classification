{
 "cells": [
  {
   "cell_type": "markdown",
   "metadata": {},
   "source": [
    "Move 10% of images as unseen"
   ]
  },
  {
   "cell_type": "code",
   "execution_count": null,
   "metadata": {},
   "outputs": [],
   "source": [
    "import os\n",
    "import numpy as np\n",
    "import shutil\n",
    "\n",
    "# Dataset Paths\n",
    "dataset_path = \"Cat_Breed\"\n",
    "unseen_dataset_path = \"Unseen_Cat_Breed\"\n",
    "\n",
    "breeds = {\n",
    "    'Abyssinian': 0, 'Bombay': 1, 'Egyptian Mau': 2, 'Exotic Shorthair': 3,\n",
    "    'Himalayan': 4, 'Maine Coon': 5, 'Regdoll': 6, 'Russian Blue': 7,\n",
    "    'Scottish Fold': 8, 'Siamese': 9, 'Sphynx': 10\n",
    "}\n",
    "os.makedirs(unseen_dataset_path, exist_ok=True)\n",
    "\n",
    "# Move 10% of Each Breed to Unseen Folder\n",
    "for breed in breeds.keys():\n",
    "    breed_path = os.path.join(dataset_path, breed)\n",
    "    unseen_breed_path = os.path.join(unseen_dataset_path, breed)\n",
    "\n",
    "    if not os.path.exists(breed_path):\n",
    "        print(f\"Warning: {breed_path} does not exist. Skipping...\")\n",
    "        continue\n",
    "\n",
    "    os.makedirs(unseen_breed_path, exist_ok=True)\n",
    "\n",
    "    files = os.listdir(breed_path)\n",
    "    np.random.shuffle(files)\n",
    "\n",
    "    unseen_count = max(1, int(0.1 * len(files)))\n",
    "\n",
    "    for file in files[:unseen_count]:\n",
    "        src_file = os.path.join(breed_path, file)\n",
    "        dest_file = os.path.join(unseen_breed_path, file)\n",
    "\n",
    "        if os.path.exists(src_file):\n",
    "            shutil.move(src_file, dest_file)\n"
   ]
  }
 ],
 "metadata": {
  "kernelspec": {
   "display_name": "Python 3",
   "language": "python",
   "name": "python3"
  },
  "language_info": {
   "name": "python",
   "version": "3.13.1"
  }
 },
 "nbformat": 4,
 "nbformat_minor": 2
}
